{
  "nbformat": 4,
  "nbformat_minor": 0,
  "metadata": {
    "colab": {
      "provenance": []
    },
    "kernelspec": {
      "name": "python3",
      "display_name": "Python 3"
    },
    "language_info": {
      "name": "python"
    }
  },
  "cells": [
    {
      "cell_type": "code",
      "execution_count": 3,
      "metadata": {
        "colab": {
          "base_uri": "https://localhost:8080/",
          "height": 394
        },
        "id": "SE7rTc-wgVYR",
        "outputId": "4785e6d7-d7ae-468e-cff7-4f10936deafd"
      },
      "outputs": [
        {
          "output_type": "stream",
          "name": "stdout",
          "text": [
            "(248, 30)\n"
          ]
        },
        {
          "output_type": "execute_result",
          "data": {
            "text/plain": [
              "   farm_id  farm_season_id  farm_season_field_id farm_season_field_name  \\\n",
              "0     1555            1208                 16516                     SB   \n",
              "1     1555            1208                 16516                     SB   \n",
              "2     1555            1208                 16516                     SB   \n",
              "3     1555            1208                 16518                   POMP   \n",
              "4     1555            1208                 16518                   POMP   \n",
              "\n",
              "   farm_season_field_crop_id  crop_id           crop_name  fertiliser_id  \\\n",
              "0                      16020       73          Grain corn            229   \n",
              "1                      16020       73          Grain corn             63   \n",
              "2                      16020       73          Grain corn             61   \n",
              "3                      16022       49  Durum winter wheat            235   \n",
              "4                      16022       49  Durum winter wheat            229   \n",
              "\n",
              "            fertiliser_name  fertiliser_id_cft  ... compk compca compmg  \\\n",
              "0                0-25-25 6S               44.0  ...  25.0      0      0   \n",
              "1         Zinc (elemental)*                NaN  ...   0.0      0      0   \n",
              "2              Urea - 46% N               45.0  ...   0.0      0      0   \n",
              "3  Ferti Leader Vital 9-5-4               44.0  ...   4.0      0      0   \n",
              "4                0-25-25 6S               44.0  ...  25.0      0      0   \n",
              "\n",
              "   comps compcaco3  inhibitor_used  is_custom_organic            machinery  \\\n",
              "0      6         0           False              False  Fertiliser spreader   \n",
              "1      0         0           False              False  Fertiliser spreader   \n",
              "2      0         0           False              False  Fertiliser spreader   \n",
              "3      0         0           False              False  Fertiliser spreader   \n",
              "4      6         0           False              False  Fertiliser spreader   \n",
              "\n",
              "   passage  fertilisation_type  \n",
              "0        4       mineral_solid  \n",
              "1        4       mineral_solid  \n",
              "2        4       mineral_solid  \n",
              "3        5       mineral_solid  \n",
              "4        5       mineral_solid  \n",
              "\n",
              "[5 rows x 30 columns]"
            ],
            "text/html": [
              "\n",
              "  <div id=\"df-4cb16fcf-83c0-4eb4-8dfc-37e0fedba913\" class=\"colab-df-container\">\n",
              "    <div>\n",
              "<style scoped>\n",
              "    .dataframe tbody tr th:only-of-type {\n",
              "        vertical-align: middle;\n",
              "    }\n",
              "\n",
              "    .dataframe tbody tr th {\n",
              "        vertical-align: top;\n",
              "    }\n",
              "\n",
              "    .dataframe thead th {\n",
              "        text-align: right;\n",
              "    }\n",
              "</style>\n",
              "<table border=\"1\" class=\"dataframe\">\n",
              "  <thead>\n",
              "    <tr style=\"text-align: right;\">\n",
              "      <th></th>\n",
              "      <th>farm_id</th>\n",
              "      <th>farm_season_id</th>\n",
              "      <th>farm_season_field_id</th>\n",
              "      <th>farm_season_field_name</th>\n",
              "      <th>farm_season_field_crop_id</th>\n",
              "      <th>crop_id</th>\n",
              "      <th>crop_name</th>\n",
              "      <th>fertiliser_id</th>\n",
              "      <th>fertiliser_name</th>\n",
              "      <th>fertiliser_id_cft</th>\n",
              "      <th>...</th>\n",
              "      <th>compk</th>\n",
              "      <th>compca</th>\n",
              "      <th>compmg</th>\n",
              "      <th>comps</th>\n",
              "      <th>compcaco3</th>\n",
              "      <th>inhibitor_used</th>\n",
              "      <th>is_custom_organic</th>\n",
              "      <th>machinery</th>\n",
              "      <th>passage</th>\n",
              "      <th>fertilisation_type</th>\n",
              "    </tr>\n",
              "  </thead>\n",
              "  <tbody>\n",
              "    <tr>\n",
              "      <th>0</th>\n",
              "      <td>1555</td>\n",
              "      <td>1208</td>\n",
              "      <td>16516</td>\n",
              "      <td>SB</td>\n",
              "      <td>16020</td>\n",
              "      <td>73</td>\n",
              "      <td>Grain corn</td>\n",
              "      <td>229</td>\n",
              "      <td>0-25-25 6S</td>\n",
              "      <td>44.0</td>\n",
              "      <td>...</td>\n",
              "      <td>25.0</td>\n",
              "      <td>0</td>\n",
              "      <td>0</td>\n",
              "      <td>6</td>\n",
              "      <td>0</td>\n",
              "      <td>False</td>\n",
              "      <td>False</td>\n",
              "      <td>Fertiliser spreader</td>\n",
              "      <td>4</td>\n",
              "      <td>mineral_solid</td>\n",
              "    </tr>\n",
              "    <tr>\n",
              "      <th>1</th>\n",
              "      <td>1555</td>\n",
              "      <td>1208</td>\n",
              "      <td>16516</td>\n",
              "      <td>SB</td>\n",
              "      <td>16020</td>\n",
              "      <td>73</td>\n",
              "      <td>Grain corn</td>\n",
              "      <td>63</td>\n",
              "      <td>Zinc (elemental)*</td>\n",
              "      <td>NaN</td>\n",
              "      <td>...</td>\n",
              "      <td>0.0</td>\n",
              "      <td>0</td>\n",
              "      <td>0</td>\n",
              "      <td>0</td>\n",
              "      <td>0</td>\n",
              "      <td>False</td>\n",
              "      <td>False</td>\n",
              "      <td>Fertiliser spreader</td>\n",
              "      <td>4</td>\n",
              "      <td>mineral_solid</td>\n",
              "    </tr>\n",
              "    <tr>\n",
              "      <th>2</th>\n",
              "      <td>1555</td>\n",
              "      <td>1208</td>\n",
              "      <td>16516</td>\n",
              "      <td>SB</td>\n",
              "      <td>16020</td>\n",
              "      <td>73</td>\n",
              "      <td>Grain corn</td>\n",
              "      <td>61</td>\n",
              "      <td>Urea - 46% N</td>\n",
              "      <td>45.0</td>\n",
              "      <td>...</td>\n",
              "      <td>0.0</td>\n",
              "      <td>0</td>\n",
              "      <td>0</td>\n",
              "      <td>0</td>\n",
              "      <td>0</td>\n",
              "      <td>False</td>\n",
              "      <td>False</td>\n",
              "      <td>Fertiliser spreader</td>\n",
              "      <td>4</td>\n",
              "      <td>mineral_solid</td>\n",
              "    </tr>\n",
              "    <tr>\n",
              "      <th>3</th>\n",
              "      <td>1555</td>\n",
              "      <td>1208</td>\n",
              "      <td>16518</td>\n",
              "      <td>POMP</td>\n",
              "      <td>16022</td>\n",
              "      <td>49</td>\n",
              "      <td>Durum winter wheat</td>\n",
              "      <td>235</td>\n",
              "      <td>Ferti Leader Vital 9-5-4</td>\n",
              "      <td>44.0</td>\n",
              "      <td>...</td>\n",
              "      <td>4.0</td>\n",
              "      <td>0</td>\n",
              "      <td>0</td>\n",
              "      <td>0</td>\n",
              "      <td>0</td>\n",
              "      <td>False</td>\n",
              "      <td>False</td>\n",
              "      <td>Fertiliser spreader</td>\n",
              "      <td>5</td>\n",
              "      <td>mineral_solid</td>\n",
              "    </tr>\n",
              "    <tr>\n",
              "      <th>4</th>\n",
              "      <td>1555</td>\n",
              "      <td>1208</td>\n",
              "      <td>16518</td>\n",
              "      <td>POMP</td>\n",
              "      <td>16022</td>\n",
              "      <td>49</td>\n",
              "      <td>Durum winter wheat</td>\n",
              "      <td>229</td>\n",
              "      <td>0-25-25 6S</td>\n",
              "      <td>44.0</td>\n",
              "      <td>...</td>\n",
              "      <td>25.0</td>\n",
              "      <td>0</td>\n",
              "      <td>0</td>\n",
              "      <td>6</td>\n",
              "      <td>0</td>\n",
              "      <td>False</td>\n",
              "      <td>False</td>\n",
              "      <td>Fertiliser spreader</td>\n",
              "      <td>5</td>\n",
              "      <td>mineral_solid</td>\n",
              "    </tr>\n",
              "  </tbody>\n",
              "</table>\n",
              "<p>5 rows × 30 columns</p>\n",
              "</div>\n",
              "    <div class=\"colab-df-buttons\">\n",
              "\n",
              "  <div class=\"colab-df-container\">\n",
              "    <button class=\"colab-df-convert\" onclick=\"convertToInteractive('df-4cb16fcf-83c0-4eb4-8dfc-37e0fedba913')\"\n",
              "            title=\"Convert this dataframe to an interactive table.\"\n",
              "            style=\"display:none;\">\n",
              "\n",
              "  <svg xmlns=\"http://www.w3.org/2000/svg\" height=\"24px\" viewBox=\"0 -960 960 960\">\n",
              "    <path d=\"M120-120v-720h720v720H120Zm60-500h600v-160H180v160Zm220 220h160v-160H400v160Zm0 220h160v-160H400v160ZM180-400h160v-160H180v160Zm440 0h160v-160H620v160ZM180-180h160v-160H180v160Zm440 0h160v-160H620v160Z\"/>\n",
              "  </svg>\n",
              "    </button>\n",
              "\n",
              "  <style>\n",
              "    .colab-df-container {\n",
              "      display:flex;\n",
              "      gap: 12px;\n",
              "    }\n",
              "\n",
              "    .colab-df-convert {\n",
              "      background-color: #E8F0FE;\n",
              "      border: none;\n",
              "      border-radius: 50%;\n",
              "      cursor: pointer;\n",
              "      display: none;\n",
              "      fill: #1967D2;\n",
              "      height: 32px;\n",
              "      padding: 0 0 0 0;\n",
              "      width: 32px;\n",
              "    }\n",
              "\n",
              "    .colab-df-convert:hover {\n",
              "      background-color: #E2EBFA;\n",
              "      box-shadow: 0px 1px 2px rgba(60, 64, 67, 0.3), 0px 1px 3px 1px rgba(60, 64, 67, 0.15);\n",
              "      fill: #174EA6;\n",
              "    }\n",
              "\n",
              "    .colab-df-buttons div {\n",
              "      margin-bottom: 4px;\n",
              "    }\n",
              "\n",
              "    [theme=dark] .colab-df-convert {\n",
              "      background-color: #3B4455;\n",
              "      fill: #D2E3FC;\n",
              "    }\n",
              "\n",
              "    [theme=dark] .colab-df-convert:hover {\n",
              "      background-color: #434B5C;\n",
              "      box-shadow: 0px 1px 3px 1px rgba(0, 0, 0, 0.15);\n",
              "      filter: drop-shadow(0px 1px 2px rgba(0, 0, 0, 0.3));\n",
              "      fill: #FFFFFF;\n",
              "    }\n",
              "  </style>\n",
              "\n",
              "    <script>\n",
              "      const buttonEl =\n",
              "        document.querySelector('#df-4cb16fcf-83c0-4eb4-8dfc-37e0fedba913 button.colab-df-convert');\n",
              "      buttonEl.style.display =\n",
              "        google.colab.kernel.accessAllowed ? 'block' : 'none';\n",
              "\n",
              "      async function convertToInteractive(key) {\n",
              "        const element = document.querySelector('#df-4cb16fcf-83c0-4eb4-8dfc-37e0fedba913');\n",
              "        const dataTable =\n",
              "          await google.colab.kernel.invokeFunction('convertToInteractive',\n",
              "                                                    [key], {});\n",
              "        if (!dataTable) return;\n",
              "\n",
              "        const docLinkHtml = 'Like what you see? Visit the ' +\n",
              "          '<a target=\"_blank\" href=https://colab.research.google.com/notebooks/data_table.ipynb>data table notebook</a>'\n",
              "          + ' to learn more about interactive tables.';\n",
              "        element.innerHTML = '';\n",
              "        dataTable['output_type'] = 'display_data';\n",
              "        await google.colab.output.renderOutput(dataTable, element);\n",
              "        const docLink = document.createElement('div');\n",
              "        docLink.innerHTML = docLinkHtml;\n",
              "        element.appendChild(docLink);\n",
              "      }\n",
              "    </script>\n",
              "  </div>\n",
              "\n",
              "\n",
              "<div id=\"df-95149f45-c9ba-4222-9d4d-80f5ae88ca59\">\n",
              "  <button class=\"colab-df-quickchart\" onclick=\"quickchart('df-95149f45-c9ba-4222-9d4d-80f5ae88ca59')\"\n",
              "            title=\"Suggest charts\"\n",
              "            style=\"display:none;\">\n",
              "\n",
              "<svg xmlns=\"http://www.w3.org/2000/svg\" height=\"24px\"viewBox=\"0 0 24 24\"\n",
              "     width=\"24px\">\n",
              "    <g>\n",
              "        <path d=\"M19 3H5c-1.1 0-2 .9-2 2v14c0 1.1.9 2 2 2h14c1.1 0 2-.9 2-2V5c0-1.1-.9-2-2-2zM9 17H7v-7h2v7zm4 0h-2V7h2v10zm4 0h-2v-4h2v4z\"/>\n",
              "    </g>\n",
              "</svg>\n",
              "  </button>\n",
              "\n",
              "<style>\n",
              "  .colab-df-quickchart {\n",
              "      --bg-color: #E8F0FE;\n",
              "      --fill-color: #1967D2;\n",
              "      --hover-bg-color: #E2EBFA;\n",
              "      --hover-fill-color: #174EA6;\n",
              "      --disabled-fill-color: #AAA;\n",
              "      --disabled-bg-color: #DDD;\n",
              "  }\n",
              "\n",
              "  [theme=dark] .colab-df-quickchart {\n",
              "      --bg-color: #3B4455;\n",
              "      --fill-color: #D2E3FC;\n",
              "      --hover-bg-color: #434B5C;\n",
              "      --hover-fill-color: #FFFFFF;\n",
              "      --disabled-bg-color: #3B4455;\n",
              "      --disabled-fill-color: #666;\n",
              "  }\n",
              "\n",
              "  .colab-df-quickchart {\n",
              "    background-color: var(--bg-color);\n",
              "    border: none;\n",
              "    border-radius: 50%;\n",
              "    cursor: pointer;\n",
              "    display: none;\n",
              "    fill: var(--fill-color);\n",
              "    height: 32px;\n",
              "    padding: 0;\n",
              "    width: 32px;\n",
              "  }\n",
              "\n",
              "  .colab-df-quickchart:hover {\n",
              "    background-color: var(--hover-bg-color);\n",
              "    box-shadow: 0 1px 2px rgba(60, 64, 67, 0.3), 0 1px 3px 1px rgba(60, 64, 67, 0.15);\n",
              "    fill: var(--button-hover-fill-color);\n",
              "  }\n",
              "\n",
              "  .colab-df-quickchart-complete:disabled,\n",
              "  .colab-df-quickchart-complete:disabled:hover {\n",
              "    background-color: var(--disabled-bg-color);\n",
              "    fill: var(--disabled-fill-color);\n",
              "    box-shadow: none;\n",
              "  }\n",
              "\n",
              "  .colab-df-spinner {\n",
              "    border: 2px solid var(--fill-color);\n",
              "    border-color: transparent;\n",
              "    border-bottom-color: var(--fill-color);\n",
              "    animation:\n",
              "      spin 1s steps(1) infinite;\n",
              "  }\n",
              "\n",
              "  @keyframes spin {\n",
              "    0% {\n",
              "      border-color: transparent;\n",
              "      border-bottom-color: var(--fill-color);\n",
              "      border-left-color: var(--fill-color);\n",
              "    }\n",
              "    20% {\n",
              "      border-color: transparent;\n",
              "      border-left-color: var(--fill-color);\n",
              "      border-top-color: var(--fill-color);\n",
              "    }\n",
              "    30% {\n",
              "      border-color: transparent;\n",
              "      border-left-color: var(--fill-color);\n",
              "      border-top-color: var(--fill-color);\n",
              "      border-right-color: var(--fill-color);\n",
              "    }\n",
              "    40% {\n",
              "      border-color: transparent;\n",
              "      border-right-color: var(--fill-color);\n",
              "      border-top-color: var(--fill-color);\n",
              "    }\n",
              "    60% {\n",
              "      border-color: transparent;\n",
              "      border-right-color: var(--fill-color);\n",
              "    }\n",
              "    80% {\n",
              "      border-color: transparent;\n",
              "      border-right-color: var(--fill-color);\n",
              "      border-bottom-color: var(--fill-color);\n",
              "    }\n",
              "    90% {\n",
              "      border-color: transparent;\n",
              "      border-bottom-color: var(--fill-color);\n",
              "    }\n",
              "  }\n",
              "</style>\n",
              "\n",
              "  <script>\n",
              "    async function quickchart(key) {\n",
              "      const quickchartButtonEl =\n",
              "        document.querySelector('#' + key + ' button');\n",
              "      quickchartButtonEl.disabled = true;  // To prevent multiple clicks.\n",
              "      quickchartButtonEl.classList.add('colab-df-spinner');\n",
              "      try {\n",
              "        const charts = await google.colab.kernel.invokeFunction(\n",
              "            'suggestCharts', [key], {});\n",
              "      } catch (error) {\n",
              "        console.error('Error during call to suggestCharts:', error);\n",
              "      }\n",
              "      quickchartButtonEl.classList.remove('colab-df-spinner');\n",
              "      quickchartButtonEl.classList.add('colab-df-quickchart-complete');\n",
              "    }\n",
              "    (() => {\n",
              "      let quickchartButtonEl =\n",
              "        document.querySelector('#df-95149f45-c9ba-4222-9d4d-80f5ae88ca59 button');\n",
              "      quickchartButtonEl.style.display =\n",
              "        google.colab.kernel.accessAllowed ? 'block' : 'none';\n",
              "    })();\n",
              "  </script>\n",
              "</div>\n",
              "\n",
              "    </div>\n",
              "  </div>\n"
            ],
            "application/vnd.google.colaboratory.intrinsic+json": {
              "type": "dataframe",
              "variable_name": "df"
            }
          },
          "metadata": {},
          "execution_count": 3
        }
      ],
      "source": [
        "import pandas as pd\n",
        "import seaborn as sns\n",
        "import matplotlib.pyplot as plt\n",
        "\n",
        "df = pd.read_excel(\"/content/prod_views_data_viewfield_operations_fert.xlsx\")\n",
        "print(df.shape)\n",
        "\n",
        "\n",
        "df.head()"
      ]
    },
    {
      "cell_type": "code",
      "source": [
        "df['farm_season_field_id'].nunique()"
      ],
      "metadata": {
        "colab": {
          "base_uri": "https://localhost:8080/"
        },
        "id": "CQK5XkkkpElp",
        "outputId": "a8e6a8ed-cbf7-49fb-eb45-08482f974913"
      },
      "execution_count": 4,
      "outputs": [
        {
          "output_type": "execute_result",
          "data": {
            "text/plain": [
              "86"
            ]
          },
          "metadata": {},
          "execution_count": 4
        }
      ]
    },
    {
      "cell_type": "markdown",
      "source": [
        "## drop missing values"
      ],
      "metadata": {
        "id": "lOqbia-mgmsM"
      }
    },
    {
      "cell_type": "code",
      "source": [
        "#df= df.drop_duplicates(subset='farm_season_field_id', keep='last')\n",
        "df = df.drop_duplicates()"
      ],
      "metadata": {
        "id": "Vtw6WUa4o-_8"
      },
      "execution_count": 5,
      "outputs": []
    },
    {
      "cell_type": "code",
      "source": [
        "df.columns"
      ],
      "metadata": {
        "colab": {
          "base_uri": "https://localhost:8080/"
        },
        "id": "_tWLV6SXhNkt",
        "outputId": "996244f0-949f-4cc3-b96e-edaa06e97bc1"
      },
      "execution_count": 6,
      "outputs": [
        {
          "output_type": "execute_result",
          "data": {
            "text/plain": [
              "Index(['farm_id', 'farm_season_id', 'farm_season_field_id',\n",
              "       'farm_season_field_name', 'farm_season_field_crop_id', 'crop_id',\n",
              "       'crop_name', 'fertiliser_id', 'fertiliser_name', 'fertiliser_id_cft',\n",
              "       'fertiliser_name_cft', 'fertiliser_name_dndc', 'fertiliser_type',\n",
              "       'quantity', 'unit', 'volumic_mass', 'quantity_kg', 'N_perha', 'compn',\n",
              "       'compp', 'compk', 'compca', 'compmg', 'comps', 'compcaco3',\n",
              "       'inhibitor_used', 'is_custom_organic', 'machinery', 'passage',\n",
              "       'fertilisation_type'],\n",
              "      dtype='object')"
            ]
          },
          "metadata": {},
          "execution_count": 6
        }
      ]
    },
    {
      "cell_type": "code",
      "source": [
        "df['crop_name'].unique()"
      ],
      "metadata": {
        "colab": {
          "base_uri": "https://localhost:8080/"
        },
        "id": "UVYuLnEgUuwU",
        "outputId": "e294041e-f33d-46d3-f710-f57c51d8acfe"
      },
      "execution_count": 7,
      "outputs": [
        {
          "output_type": "execute_result",
          "data": {
            "text/plain": [
              "array(['Grain corn', 'Durum winter wheat', 'Sunflower',\n",
              "       'Winter barley 6 rows', 'Horse bean', 'Winter rapeseed',\n",
              "       'Spring barley 2 rows'], dtype=object)"
            ]
          },
          "metadata": {},
          "execution_count": 7
        }
      ]
    },
    {
      "cell_type": "code",
      "source": [
        "df = df[df['quantity_kg'] == df['quantity']]"
      ],
      "metadata": {
        "id": "F1cXNxinjmD_"
      },
      "execution_count": 9,
      "outputs": []
    },
    {
      "cell_type": "code",
      "source": [],
      "metadata": {
        "colab": {
          "base_uri": "https://localhost:8080/"
        },
        "id": "6kWaSyZHhATc",
        "outputId": "9fe21ba8-128a-42f7-b52e-d1bdb4062765"
      },
      "execution_count": 11,
      "outputs": [
        {
          "output_type": "execute_result",
          "data": {
            "text/plain": [
              "1"
            ]
          },
          "metadata": {},
          "execution_count": 11
        }
      ]
    },
    {
      "cell_type": "markdown",
      "source": [],
      "metadata": {
        "id": "3VWVv3Yjg3zR"
      }
    },
    {
      "cell_type": "markdown",
      "source": [
        "## convert all to KG"
      ],
      "metadata": {
        "id": "YckOwDihgr97"
      }
    },
    {
      "cell_type": "code",
      "source": [
        "df['volumic_mass'].nunique()"
      ],
      "metadata": {
        "id": "54TNCrhQlAdj",
        "colab": {
          "base_uri": "https://localhost:8080/"
        },
        "outputId": "f3c7a45d-df1c-4568-d327-38e76d97d6c9"
      },
      "execution_count": 12,
      "outputs": [
        {
          "output_type": "execute_result",
          "data": {
            "text/plain": [
              "1"
            ]
          },
          "metadata": {},
          "execution_count": 12
        }
      ]
    },
    {
      "cell_type": "markdown",
      "source": [
        "## Look for ouliers"
      ],
      "metadata": {
        "id": "ib5gOADOhGFf"
      }
    },
    {
      "cell_type": "code",
      "source": [
        "print(df['quantity'].mean())\n",
        "print(df['quantity'].median())"
      ],
      "metadata": {
        "colab": {
          "base_uri": "https://localhost:8080/"
        },
        "id": "BuEokwl3hJjA",
        "outputId": "43acc016-0167-44ec-b4a6-27a603715264"
      },
      "execution_count": 14,
      "outputs": [
        {
          "output_type": "stream",
          "name": "stdout",
          "text": [
            "330.7\n",
            "153.0\n"
          ]
        }
      ]
    },
    {
      "cell_type": "code",
      "source": [
        "# Plot the distribution of converted active kg\n",
        "plt.figure(figsize=(6, 1.5))\n",
        "sns.boxplot(x=df['quantity'].dropna(), color='salmon')\n",
        "plt.title(\"Boxplot of Active Pesticide Applied (kg)\")\n",
        "plt.xlabel(\"Active Substance (kg)\")\n",
        "plt.tight_layout()\n",
        "plt.show()"
      ],
      "metadata": {
        "colab": {
          "base_uri": "https://localhost:8080/",
          "height": 157
        },
        "id": "2v8twiMKhSzn",
        "outputId": "c7927b74-accf-420b-d769-9535ba41d02c"
      },
      "execution_count": 15,
      "outputs": [
        {
          "output_type": "display_data",
          "data": {
            "text/plain": [
              "<Figure size 600x150 with 1 Axes>"
            ],
            "image/png": "[encoded data removed]"
          },
          "metadata": {}
        }
      ]
    },
    {
      "cell_type": "code",
      "source": [
        "# Compute bounds\n",
        "q = df['quantity'].dropna()\n",
        "lower = q.quantile(0.02)\n",
        "upper = q.quantile(0.95)\n",
        "\n",
        "# Count how many are below or above the bounds\n",
        "outliers = q[(q < lower) | (q > upper)]\n",
        "\n",
        "print(outliers)"
      ],
      "metadata": {
        "colab": {
          "base_uri": "https://localhost:8080/"
        },
        "id": "w1of7eAFhaKc",
        "outputId": "20679b7c-ad8e-472f-f7c2-71b0002d2ef8"
      },
      "execution_count": 23,
      "outputs": [
        {
          "output_type": "stream",
          "name": "stdout",
          "text": [
            "5     539.0\n",
            "52    539.0\n",
            "57    539.0\n",
            "63    539.0\n",
            "65    539.0\n",
            "93    522.0\n",
            "Name: quantity, dtype: float64\n"
          ]
        }
      ]
    },
    {
      "cell_type": "code",
      "source": [
        "df= df[(df['quantity'] >= lower) & (df['quantity'] <= upper)]"
      ],
      "metadata": {
        "id": "1241dW0NhreF"
      },
      "execution_count": 24,
      "outputs": []
    },
    {
      "cell_type": "code",
      "source": [
        "\n",
        "plt.figure(figsize=(6, 1.5))\n",
        "sns.boxplot(x=df['quantity'].dropna(), color='salmon')\n",
        "plt.title(\"Boxplot of Active Pesticide Applied (kg)\")\n",
        "plt.xlabel(\"Active Substance (kg)\")\n",
        "plt.tight_layout()\n",
        "plt.show()"
      ],
      "metadata": {
        "colab": {
          "base_uri": "https://localhost:8080/",
          "height": 157
        },
        "id": "c3r8e12nhux4",
        "outputId": "a67c8bc0-d857-4b34-cc54-e7e668329623"
      },
      "execution_count": 25,
      "outputs": [
        {
          "output_type": "display_data",
          "data": {
            "text/plain": [
              "<Figure size 600x150 with 1 Axes>"
            ],
            "image/png": "[encoded data removed]"
          },
          "metadata": {}
        }
      ]
    },
    {
      "cell_type": "markdown",
      "source": [
        "## Inspect per season and field"
      ],
      "metadata": {
        "id": "wr_BQU16h73G"
      }
    },
    {
      "cell_type": "code",
      "source": [
        "yearly_fert = df.groupby(\"farm_season_id\")[\"quantity\"].agg([\"sum\", \"mean\", \"count\"]).reset_index()\n",
        "yearly_fert.columns = [\"year\", \"total_kg\", \"avg_kg_per_app\", \"n_applications\"]\n",
        "\n",
        "\n",
        "sns.barplot(data=yearly_fert, x=\"year\", y=\"total_kg\", color='seagreen')\n",
        "plt.title(\"Total Fertiliser Use per Year (kg)\")\n",
        "plt.xlabel(\"Year\")\n",
        "plt.ylabel(\"Total Fertiliser (kg)\")\n",
        "plt.tight_layout()\n",
        "plt.show()\n"
      ],
      "metadata": {
        "colab": {
          "base_uri": "https://localhost:8080/",
          "height": 487
        },
        "id": "ftU95LvtwjNA",
        "outputId": "f7964060-bd8b-4edf-cd7d-9691b282936e"
      },
      "execution_count": 27,
      "outputs": [
        {
          "output_type": "display_data",
          "data": {
            "text/plain": [
              "<Figure size 640x480 with 1 Axes>"
            ],
            "image/png": "[encoded data removed]"
          },
          "metadata": {}
        }
      ]
    },
    {
      "cell_type": "code",
      "source": [
        "yearly_fert = df.groupby(\"farm_season_field_id\")[\"quantity\"].agg([\"sum\", \"mean\", \"count\"]).reset_index()\n",
        "data = yearly_fert.sort_values(\"sum\", ascending=False).head(20)\n",
        "\n",
        "sns.barplot(data=data, x=\"farm_season_field_id\", y=\"sum\", color='seagreen')\n",
        "plt.title(\"Total Fertiliser Use per Year (kg)\")\n",
        "plt.xlabel(\"Field\")\n",
        "plt.xticks(rotation=90)\n",
        "plt.ylabel(\"Total Fertiliser (kg)\")\n",
        "plt.tight_layout()\n",
        "plt.show()"
      ],
      "metadata": {
        "colab": {
          "base_uri": "https://localhost:8080/",
          "height": 487
        },
        "id": "8WWe0D0fw008",
        "outputId": "ff27a137-c29a-40a9-87a4-fed2a8a3826a"
      },
      "execution_count": 28,
      "outputs": [
        {
          "output_type": "display_data",
          "data": {
            "text/plain": [
              "<Figure size 640x480 with 1 Axes>"
            ],
            "image/png": "[encoded data removed]"
          },
          "metadata": {}
        }
      ]
    },
    {
      "cell_type": "code",
      "source": [
        "field_fert = df.groupby(\"farm_season_field_id\")[\"quantity\"].sum()\n",
        "field_fert.rename('fert_in_kg', inplace = True)\n",
        "field_fert"
      ],
      "metadata": {
        "id": "n9Id1ie0xOIi",
        "colab": {
          "base_uri": "https://localhost:8080/",
          "height": 490
        },
        "outputId": "5454cf23-b3bc-46f5-ddcc-01d93cf94e05"
      },
      "execution_count": 29,
      "outputs": [
        {
          "output_type": "execute_result",
          "data": {
            "text/plain": [
              "farm_season_field_id\n",
              "16516     700.9\n",
              "16518     230.0\n",
              "16519     700.9\n",
              "16520     700.9\n",
              "16521     700.9\n",
              "          ...  \n",
              "360941     88.0\n",
              "360943    494.0\n",
              "360944    494.0\n",
              "360945    494.0\n",
              "360946    494.0\n",
              "Name: fert_in_kg, Length: 83, dtype: float64"
            ],
            "text/html": [
              "<div>\n",
              "<style scoped>\n",
              "    .dataframe tbody tr th:only-of-type {\n",
              "        vertical-align: middle;\n",
              "    }\n",
              "\n",
              "    .dataframe tbody tr th {\n",
              "        vertical-align: top;\n",
              "    }\n",
              "\n",
              "    .dataframe thead th {\n",
              "        text-align: right;\n",
              "    }\n",
              "</style>\n",
              "<table border=\"1\" class=\"dataframe\">\n",
              "  <thead>\n",
              "    <tr style=\"text-align: right;\">\n",
              "      <th></th>\n",
              "      <th>fert_in_kg</th>\n",
              "    </tr>\n",
              "    <tr>\n",
              "      <th>farm_season_field_id</th>\n",
              "      <th></th>\n",
              "    </tr>\n",
              "  </thead>\n",
              "  <tbody>\n",
              "    <tr>\n",
              "      <th>16516</th>\n",
              "      <td>700.9</td>\n",
              "    </tr>\n",
              "    <tr>\n",
              "      <th>16518</th>\n",
              "      <td>230.0</td>\n",
              "    </tr>\n",
              "    <tr>\n",
              "      <th>16519</th>\n",
              "      <td>700.9</td>\n",
              "    </tr>\n",
              "    <tr>\n",
              "      <th>16520</th>\n",
              "      <td>700.9</td>\n",
              "    </tr>\n",
              "    <tr>\n",
              "      <th>16521</th>\n",
              "      <td>700.9</td>\n",
              "    </tr>\n",
              "    <tr>\n",
              "      <th>...</th>\n",
              "      <td>...</td>\n",
              "    </tr>\n",
              "    <tr>\n",
              "      <th>360941</th>\n",
              "      <td>88.0</td>\n",
              "    </tr>\n",
              "    <tr>\n",
              "      <th>360943</th>\n",
              "      <td>494.0</td>\n",
              "    </tr>\n",
              "    <tr>\n",
              "      <th>360944</th>\n",
              "      <td>494.0</td>\n",
              "    </tr>\n",
              "    <tr>\n",
              "      <th>360945</th>\n",
              "      <td>494.0</td>\n",
              "    </tr>\n",
              "    <tr>\n",
              "      <th>360946</th>\n",
              "      <td>494.0</td>\n",
              "    </tr>\n",
              "  </tbody>\n",
              "</table>\n",
              "<p>83 rows × 1 columns</p>\n",
              "</div><br><label><b>dtype:</b> float64</label>"
            ]
          },
          "metadata": {},
          "execution_count": 29
        }
      ]
    },
    {
      "cell_type": "markdown",
      "source": [
        "## Save"
      ],
      "metadata": {
        "id": "SoTNV5upiI7q"
      }
    },
    {
      "cell_type": "code",
      "source": [
        "field_fert.to_csv(\"eda_fert.csv\")"
      ],
      "metadata": {
        "id": "ICaehnaphFXO"
      },
      "execution_count": 30,
      "outputs": []
    }
  ]
}